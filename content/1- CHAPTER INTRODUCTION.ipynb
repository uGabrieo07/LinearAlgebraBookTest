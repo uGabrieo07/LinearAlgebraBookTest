{
  "metadata": {
    "kernelspec": {
      "name": "python",
      "display_name": "Python (Pyodide)",
      "language": "python"
    },
    "language_info": {
      "codemirror_mode": {
        "name": "python",
        "version": 3
      },
      "file_extension": ".py",
      "mimetype": "text/x-python",
      "name": "python",
      "nbconvert_exporter": "python",
      "pygments_lexer": "ipython3",
      "version": "3.8"
    }
  },
  "nbformat_minor": 5,
  "nbformat": 4,
  "cells": [
    {
      "id": "a16d3a2c-d1e6-48bc-804c-2f506ca1b5ec",
      "cell_type": "markdown",
      "source": "# Chapter 1: On Vector Spaces  \nThis book is about tools; algebraic tools that are often encountered when describing or solving engineering problems. These tools operate on objects that belong to a particular set. This chapter defines the objects (or elements) and sets that form the basic principles this book will rely upon. It also introduces the notation and the scope of the book.",
      "metadata": {}
    },
    {
      "id": "cba20fed-be62-417a-9c07-6b1e26620103",
      "cell_type": "markdown",
      "source": "### Chapter 1 notebooks  \n<a href=\"1.1 - FIELDS.ipynb\">1.1 - FIELDS</a>  \n<a href=\"1.2 - VECTOR SPACES.ipynb\">1.2 - VECTOR SPACES</a>  \n<a href=\"1.3 - BASIS AND DIMENSIONS.ipynb\">1.3 - BASIS AND DIMENSIONS</a>  \n<a href=\"2.1 - MATRICES, LINEAR TRANSFORMATIONS AND RANGE.ipynb\">1.4 - MATRICES, LINEAR TRANSFORMATIONS AND RANGE</a>",
      "metadata": {}
    },
    {
      "id": "34c4ce4b-8fff-4e61-940e-4bd712add548",
      "cell_type": "code",
      "source": "",
      "metadata": {
        "trusted": true
      },
      "outputs": [],
      "execution_count": null
    }
  ]
}