{
  "metadata": {
    "kernelspec": {
      "name": "python",
      "display_name": "Python (Pyodide)",
      "language": "python"
    },
    "language_info": {
      "codemirror_mode": {
        "name": "python",
        "version": 3
      },
      "file_extension": ".py",
      "mimetype": "text/x-python",
      "name": "python",
      "nbconvert_exporter": "python",
      "pygments_lexer": "ipython3",
      "version": "3.8"
    }
  },
  "nbformat_minor": 5,
  "nbformat": 4,
  "cells": [
    {
      "id": "1b361b3c-159d-4bf6-be8d-c86c3d17b055",
      "cell_type": "markdown",
      "source": "## QR Decomposition\n\nLet $A : \\mathbb{R}^m \\to \\mathbb{R}^n$ be a linear transformation\ninduced by matrix $\\mathbf{A}$, such that\n$\\dim(\\mathscr{R}(\\mathbf{A})) = p$. Let\n$\\mathbf{a}_i \\in \\mathbb{R}^n$, $i = 1, 2, \\dots, m$, denote the\ncolumns of $\\mathbf{A}$. In this section we will show how to build a set\nof orthonormal vectors $\\mathscr{Q}_k = \\{ \\mathbf{q}_i \\}$,\n$\\mathbf{q}_i \\in \\mathbb{R}^n$, $i = 1, 2, \\dots, k$, $k \\leq p$, such\nthat the vectors in $\\mathscr{Q}_k$ span the same space spanned by the\nfirst $k$ columns of $\\mathbf{A}$, denoted by $\\mathbf{a}_i$,\n$i = 1, 2, \\dots, k$. We will also show how this method naturally\nreveals the **QR** decomposition of matrix $\\mathbf{A}$.\n\nLet $\\mathbf{q}_1 = \\mathbf{a}_1 / \\| \\mathbf{a}_1 \\|$ be the first\nvector. Naturally $\\mathbf{q}_1$ spans the space spanned by\n$\\mathbf{a}_1$, the first column of $\\mathbf{A}$, and\n$\\| \\mathbf{q}_1 \\| = 1$. We can, alternatively, write\n\n$$\\mathbf{a}_1 = r_{11} \\mathbf{q}_1$$\n\nwhere $r_{11} = \\| \\mathbf{a}_1 \\|$. Now let\n$\\mathscr{Q}_2 = \\{ \\mathbf{q}_1, \\mathbf{q}_2 \\}$ be the set of\northonormal vectors that span the same subspace of $\\mathbb{R}^n$\nspanned by $\\{ \\mathbf{a}_1, \\mathbf{a}_2 \\}$. In this case, any linear\ncombination of vectors $\\mathbf{a}_1$ and $\\mathbf{a}_2$ can be written\nas a linear combination of vectors $\\mathbf{q}_1$ and $\\mathbf{q}_2$. In\nparticular, vector $\\mathbf{a}_2$ can be written as such linear\ncombination:\n\n$$\\mathbf{a}_2 = r_{12} \\mathbf{q}_1 + r_{22} \\mathbf{q}_2$$\n\nAs we extend the set to include more columns of matrix $\\mathbf{A}$,\n$\\{ \\mathbf{a}_1, \\mathbf{a}_2, \\dots, \\mathbf{a}_k \\}$, for any value\nof $k$, $1 \\leq k \\leq m$, we can write\n\n$$\\mathbf{a}_k = r_{1k} \\mathbf{q}_1 + r_{2k} \\mathbf{q}_2 + \\cdots + r_{kk} \\mathbf{q}_k$$\n\nIn matrix form,\n\n$$[\\mathbf{a}_1 \\ \\mathbf{a}_2 \\ \\cdots \\ \\mathbf{a}_k] = [\\mathbf{q}_1 \\ \\mathbf{q}_2 \\ \\cdots \\ \\mathbf{q}_k] \n\\begin{bmatrix}\nr_{11} & r_{12} & \\cdots & r_{1k} \\\\\n0 & r_{22} & \\cdots & r_{2k} \\\\\n\\vdots & \\vdots & \\ddots & \\vdots \\\\\n0 & 0 & \\cdots & r_{kk}\n\\end{bmatrix}$$\n\nNaturally we cannot guarantee that all columns of matrix $\\mathbf{A}$\nare linearly independent. In case they are not, and some $\\mathbf{a}_k$\ncan be written as a linear combination of\n$\\{ \\mathbf{q}_1, \\dots, \\mathbf{q}_{k-1} \\}$, then $r_{kk}$ shall be\nzero. Therefore, if we continue the procedure of building the set of\northonormal vectors until all columns of $\\mathbf{A}$ have been\ncontemplated, then the set $\\mathscr{Q}$ will be an orthonormal basis\nfor the range, also known as column space, of $\\mathbf{A}$.\n\n$$[\\mathbf{a}_1 \\ \\mathbf{a}_2 \\ \\cdots \\ \\mathbf{a}_m] = [\\mathbf{q}_1 \\ \\mathbf{q}_2 \\ \\cdots \\ \\mathbf{q}_p]\n\\begin{bmatrix}\nr_{11} & r_{12} & \\cdots & r_{1p} & \\cdots & r_{1m} \\\\\n0 & r_{22} & \\cdots & r_{2p} & \\cdots & r_{2m} \\\\\n\\vdots & \\vdots & \\ddots & \\vdots & \\ddots & \\vdots \\\\\n0 & 0 & \\cdots & r_{pp} & \\cdots & r_{pm}\n\\end{bmatrix}$$\n\nWe can also complete matrix $\\mathbf{Q}$ with $n - p$ orthonormal\nvectors in order to make it square and orthogonal. In this case, matrix\n$\\mathbf{R}$ will have the same number of rows and columns of matrix\n$\\mathbf{A}$:\n\n$$[\\mathbf{a}_1 \\ \\mathbf{a}_2 \\ \\cdots \\ \\mathbf{a}_m] = [\\mathbf{q}_1 \\ \\mathbf{q}_2 \\ \\cdots \\ \\mathbf{q}_n]\n\\begin{bmatrix}\nr_{11} & r_{12} & \\cdots & r_{1m} \\\\\n0 & r_{22} & \\cdots & r_{2m} \\\\\n\\vdots & \\vdots & \\ddots & \\vdots \\\\\n0 & 0 & \\cdots & r_{pm} \\\\\n0 & 0 & \\cdots & 0 \\\\\n\\vdots & \\vdots & \\ddots & \\vdots \\\\\n0 & 0 & \\cdots & 0\n\\end{bmatrix}$$",
      "metadata": {}
    },
    {
      "id": "c004918f-ed93-4156-bb84-72ec059d20cf",
      "cell_type": "markdown",
      "source": "## Example\n",
      "metadata": {}
    },
    {
      "id": "69438d5a-af90-490e-a4cc-021eabdeb195",
      "cell_type": "markdown",
      "source": "In the interactive example, we start with a simple polygon in the plane, such as a triangle, square, or hexagon. This polygon is represented by a set of points, and we apply a 2×2 matrix $\\mathbf{A}$ to these points to see how the polygon is transformed. Any linear transformation in two dimensions can be written as such a matrix, and the interesting part comes when we use the QR decomposition to break $\\mathbf{A}$ into two pieces: an orthogonal matrix $\\mathbf{Q}$ and an upper triangular matrix $\\mathbf{R}$.\n\nYou can interact with the notebook through two kinds of widgets. The first is a dropdown menu that lets you choose the polygon to transform. You can switch between different shapes such as triangle, square, pentagon, hexagon, octagon, or decagon. The second set of widgets are float text boxes for entering the values of the four elements of the matrix $\\mathbf{A}$. By typing numbers into these boxes, you define the transformation matrix directly:\n\n$$\n$\\mathbf{A}$ = \\begin{bmatrix}\na_{11} & a_{12} \\\\\na_{21} & a_{22}\n\\end{bmatrix}\n$$\n\n\nThe decomposition allows us to separate the transformation into two distinct steps with clear geometric meaning. The matrix $\\mathbf{Q}$ is always orthogonal, which means it represents a pure rotation or reflection. When we apply $\\mathbf{Q}$ to the polygon, its shape and size remain unchanged; only its orientation in the plane changes. On the other hand, the matrix R is upper triangular, which means it applies scaling along the coordinate axes and a shear effect through the off-diagonal term. This step deforms the polygon, stretching, compressing, or slanting it into a new shape while preserving the triangular structure of the transformation.\n\nBy plotting the original polygon, the version transformed by $\\mathbf{Q}$, the version transformed by $\\mathbf{R}$, and the version transformed by the full matrix $\\mathbf{A}$, the example makes the decomposition tangible. We can see that the full transformation $\\mathbf{A}$ is equivalent to first rotating or reflecting with $\\mathbf{Q}$ and then shearing and scaling with $\\mathbf{R}$. This illustrates in a visual way the abstract algebraic fact that every linear transformation can be decomposed into an orthogonal part and a triangular part. The example demonstrates not just the numerical computation of **QR decomposition**, but also its geometric meaning: it tells us how a transformation acts by breaking it into a “rotation/reflection step” and a “shear/scale step.”",
      "metadata": {}
    },
    {
      "id": "49a73e13-892a-434a-829f-0cec4b6bdc99",
      "cell_type": "code",
      "source": "%pip install -q ipywidgets==8.0.7",
      "metadata": {
        "trusted": true
      },
      "outputs": [],
      "execution_count": 4
    },
    {
      "id": "34cec0e9-0be3-427c-8609-d58b7fb6ee3e",
      "cell_type": "code",
      "source": "import numpy as np\nimport matplotlib.pyplot as plt\nfrom ipywidgets import interact, BoundedFloatText, Dropdown",
      "metadata": {
        "trusted": true
      },
      "outputs": [],
      "execution_count": 5
    },
    {
      "id": "8ca16820-685b-4cb3-b6e3-99e9ed7f2763",
      "cell_type": "code",
      "source": "def make_polygon(sides=4, radius=1.0):\n    '''Generates the polygon according to the user's selection'''\n    angles = np.linspace(0, 2*np.pi, sides, endpoint=False)\n    polygon = np.stack([np.cos(angles), np.sin(angles)], axis=1) * radius\n    polygon = np.vstack([polygon, polygon[0]])  # close the polygon\n    return polygon\n\ndef plot_transformation(sides, a11, a12, a21, a22):\n    ''' Main plotting function'''\n    polygon = make_polygon(sides)\n    \n    # Construct matrix A\n    A = np.array([[a11, a12],\n                  [a21, a22]])\n    \n    # QR decomposition\n    Q, R = np.linalg.qr(A)\n    \n    # Apply transformations\n    poly_A = polygon @ A.T\n    poly_Q = polygon @ Q.T\n    poly_R = polygon @ R.T\n    \n    fig, axes = plt.subplots(1, 3, figsize=(15, 5))\n    titles = [\n        f\"Full Transform A\\n{np.round(A,2)}\",\n        f\"Orthogonal Q (rotation/reflection)\\n{np.round(Q,2)}\",\n        f\"Upper Triangular R (shear+scale)\\n{np.round(R,2)}\"\n    ]\n    polys = [poly_A, poly_Q, poly_R]\n    \n    for ax, poly, title in zip(axes, polys, titles):\n        ax.plot(polygon[:,0], polygon[:,1], 'k--', alpha=0.5, label=\"Original\")\n        ax.plot(poly[:,0], poly[:,1], 'b-', lw=2, label=\"Transformed\")\n        ax.set_aspect('equal')\n        ax.grid(True, alpha=0.3)\n        ax.legend()\n        ax.set_title(title, fontsize=10)\n    plt.show()\n\ninteract(\n    plot_transformation,\n    sides=Dropdown(\n        options=[(\"Triangle\", 3), (\"Square\", 4), (\"Pentagon\", 5),\n                 (\"Hexagon\", 6), (\"Octagon\", 8), (\"Decagon\", 10)],\n        value=4,\n        description=\"Polygon:\"\n    ),\n    a11=BoundedFloatText(value=1, min=-10, max=10, step=0.1, description=\"a11\"),\n    a12=BoundedFloatText(value=0, min=-10, max=10, step=0.1, description=\"a12\"),\n    a21=BoundedFloatText(value=0, min=-10, max=10, step=0.1, description=\"a21\"),\n    a22=BoundedFloatText(value=1, min=-10, max=10, step=0.1, description=\"a22\")\n)",
      "metadata": {
        "trusted": true
      },
      "outputs": [
        {
          "output_type": "display_data",
          "data": {
            "text/plain": "interactive(children=(Dropdown(description='Polygon:', index=1, options=(('Triangle', 3), ('Square', 4), ('Pen…",
            "application/vnd.jupyter.widget-view+json": {
              "version_major": 2,
              "version_minor": 0,
              "model_id": "7ac50b6bad8a4ebbabfe9c2e2240c0c6"
            }
          },
          "metadata": {}
        },
        {
          "execution_count": 6,
          "output_type": "execute_result",
          "data": {
            "text/plain": "<function __main__.plot_transformation(sides, a11, a12, a21, a22)>"
          },
          "metadata": {}
        }
      ],
      "execution_count": 6
    },
    {
      "id": "ebbd79ae-eca4-4684-beab-1f35c80ae532",
      "cell_type": "markdown",
      "source": "<br>\n<p style=\"text-align:left;\">\n    <a href=\"5.9 - SPECTRAL DECOMPOSITION.ipynb\">⬅️PREVIOUS</a>\n</p>",
      "metadata": {}
    },
    {
      "id": "d62cb665-4cff-424a-abc5-5e4dfee6df9b",
      "cell_type": "code",
      "source": "",
      "metadata": {
        "trusted": true
      },
      "outputs": [],
      "execution_count": null
    }
  ]
}