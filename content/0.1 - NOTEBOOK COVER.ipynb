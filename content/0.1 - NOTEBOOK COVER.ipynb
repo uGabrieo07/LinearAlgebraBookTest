{
  "metadata": {
    "kernelspec": {
      "name": "python",
      "display_name": "Python (Pyodide)",
      "language": "python"
    },
    "language_info": {
      "codemirror_mode": {
        "name": "python",
        "version": 3
      },
      "file_extension": ".py",
      "mimetype": "text/x-python",
      "name": "python",
      "nbconvert_exporter": "python",
      "pygments_lexer": "ipython3",
      "version": "3.8"
    }
  },
  "nbformat_minor": 5,
  "nbformat": 4,
  "cells": [
    {
      "id": "1bb723fb-222c-4644-a68c-2243e23518d2",
      "cell_type": "markdown",
      "source": "<div style=\"\n    background: linear-gradient(135deg, #7b241c, #922b21, #c0392b);\n    color: white;\n    padding: 120px 60px;\n    text-align: center;\n    border-radius: 25px;\n    box-shadow: 0 10px 25px rgba(0,0,0,0.35);\n    font-family: 'Segoe UI', Tahoma, Geneva, Verdana, sans-serif;\n\">\n  <!-- Título principal -->\n  <h1 style=\"\n      display: inline-block;\n      padding: 25px 50px;\n      font-size:65px; \n      line-height:1.3; \n      margin-bottom:35px;\n      border-radius: 18px;\n      background: linear-gradient(90deg, #922b21, #a93226, #c0392b);\n      color: white;\n      box-shadow: 0 6px 18px rgba(0,0,0,0.45);\n  \">\n    Live Linear Algebra: <br> understand, code and apply!\n  </h1>\n\n  <!-- Autores -->\n  <h2 style=\"font-size:30px; margin-bottom:25px; font-weight:normal; color:#f5b7b1;\">\n    Amit Bhaya, Gabriel S. P. Oliveira, Marcello L. R. Campos, Martina M. Jardim\n  </h2>\n\n  <!-- Logos institucionais principais -->\n  <div style=\"margin: 40px 0;\">\n    <div style=\"display:inline-block; background:white; padding:15px; border-radius:15px; margin:15px; box-shadow:0 5px 12px rgba(0,0,0,0.4);\">\n      <img src=\"smt_logo.png\" width=\"140\" height=\"60\">\n    </div>\n    <div style=\"display:inline-block; background:white; padding:15px; border-radius:15px; margin:15px; box-shadow:0 5px 12px rgba(0,0,0,0.4);\">\n      <img src=\"nacad_logo.png\" width=\"160\" height=\"65\">\n    </div>\n  </div>\n\n  <!-- Logos de apoio e fomento -->\n  <div style=\"margin: 20px 0;\">\n    <div style=\"display:inline-block; background:white; padding:15px; border-radius:15px; margin:15px; box-shadow:0 5px 12px rgba(0,0,0,0.4);\">\n      <img src=\"cnpq_logo.png\" width=\"150\" height=\"60\">\n    </div>\n    <div style=\"display:inline-block; background:white; padding:15px; border-radius:15px; margin:15px; box-shadow:0 5px 12px rgba(0,0,0,0.4);\">\n      <img src=\"faperj_logo.png\" width=\"150\" height=\"60\">\n    </div>\n    <div style=\"display:inline-block; background:white; padding:15px; border-radius:15px; margin:15px; box-shadow:0 5px 12px rgba(0,0,0,0.4);\">\n      <img src=\"coppetec_logo.png\" width=\"150\" height=\"60\">\n    </div>\n  </div>\n\n  <p style=\"font-size:22px; margin-top:40px; color:#fdf2f2; font-weight:bold;\">\n    Universidade Federal do Rio de Janeiro — 2025\n  </p>\n</div>\n\n<div style=\"page-break-after: always;\"></div>\n",
      "metadata": {}
    },
    {
      "id": "0bda3e4f-182e-4a64-be7d-32144e7b5d60",
      "cell_type": "markdown",
      "source": "<br>\n<p style=\"text-align:left;\">\n    <a href=\"0- START HERE.ipynb\">⬅️PREVIOUS</a>\n    <span style=\"float:right;\">\n        <a href=\"1.1 - FIELDS.ipynb\" >NEXT➡️</a>\n    </span>\n</p>",
      "metadata": {}
    },
    {
      "id": "562cf3bc-0130-4fae-8642-7bef0ca28678",
      "cell_type": "code",
      "source": "",
      "metadata": {
        "trusted": true
      },
      "outputs": [],
      "execution_count": null
    }
  ]
}