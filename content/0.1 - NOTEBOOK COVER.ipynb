{
  "metadata": {
    "kernelspec": {
      "name": "python",
      "display_name": "Python (Pyodide)",
      "language": "python"
    },
    "language_info": {
      "codemirror_mode": {
        "name": "python",
        "version": 3
      },
      "file_extension": ".py",
      "mimetype": "text/x-python",
      "name": "python",
      "nbconvert_exporter": "python",
      "pygments_lexer": "ipython3",
      "version": "3.8"
    }
  },
  "nbformat_minor": 5,
  "nbformat": 4,
  "cells": [
    {
      "id": "1bb723fb-222c-4644-a68c-2243e23518d2",
      "cell_type": "markdown",
      "source": "<div style=\"\n    background: linear-gradient(135deg, #2c3e50, #34495e, #2980b9);\n    color: white;\n    padding: 120px 50px;\n    text-align: center;\n    border-radius: 20px;\n    box-shadow: 0 8px 20px rgba(0,0,0,0.3);\n\">\n  <h1 style=\"\n      display: inline-block;\n      padding: 20px 40px;\n      font-size:60px; \n      line-height:1.2; \n      margin-bottom:30px;\n      border-radius: 15px;\n      background: linear-gradient(90deg, #21618c, #2874a6);\n      color: white;\n      box-shadow: 0 5px 15px rgba(0,0,0,0.4);\n  \">\n    Live Linear Algebra: understand, code and apply!\n  </h1>\n\n  <h2 style=\"font-size:28px; margin-bottom:20px; font-weight:normal;\">\n    Amit Bhaya, Gabriel S. P. Oliveira, Marcello L. R. Campos, Martina M. Jardim\n  </h2>\n  <img src=\"smt_logo.png\" width=\"120\" style=\"margin-bottom:40px;\">\n  <img src=\"nacad_logo.png\" width=\"120\" style=\"margin-bottom:40px;\">\n  <img src=\"cnpq_logo.png\" width=\"120\" style=\"margin-bottom:40px;\">\n  <img src=\"faperj_logo.png\" width=\"120\" style=\"margin-bottom:40px;\">\n  <img src=\"coppetec_logo.png\" width=\"120\" style=\"margin-bottom:40px;\">\n  <p style=\"font-size:18px; color:#ecf0f1;\">\n    Universidade Federal do Rio de Janeiro — 2025\n  </p>\n</div>\n\n<div style=\"page-break-after: always;\"></div>\n",
      "metadata": {}
    },
    {
      "id": "0bda3e4f-182e-4a64-be7d-32144e7b5d60",
      "cell_type": "markdown",
      "source": "<br>\n<p style=\"text-align:left;\">\n    <a href=\"0- START HERE.ipynb\">⬅️PREVIOUS</a>\n    <span style=\"float:right;\">\n        <a href=\"1.1 - FIELDS.ipynb\" >NEXT➡️</a>\n    </span>\n</p>",
      "metadata": {}
    },
    {
      "id": "562cf3bc-0130-4fae-8642-7bef0ca28678",
      "cell_type": "code",
      "source": "",
      "metadata": {
        "trusted": true
      },
      "outputs": [],
      "execution_count": null
    }
  ]
}