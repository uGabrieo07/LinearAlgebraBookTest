{
  "metadata": {
    "kernelspec": {
      "name": "python",
      "display_name": "Python (Pyodide)",
      "language": "python"
    },
    "language_info": {
      "codemirror_mode": {
        "name": "python",
        "version": 3
      },
      "file_extension": ".py",
      "mimetype": "text/x-python",
      "name": "python",
      "nbconvert_exporter": "python",
      "pygments_lexer": "ipython3",
      "version": "3.8"
    }
  },
  "nbformat_minor": 5,
  "nbformat": 4,
  "cells": [
    {
      "id": "2df2f26d-72d2-4529-8155-b632542c7e72",
      "cell_type": "markdown",
      "source": "<div style=\"\n    background: linear-gradient(135deg, #2c3e50, #34495e, #2980b9);\n    color: white;\n    padding: 120px 50px;\n    text-align: center;\n    border-radius: 20px;\n    box-shadow: 0 8px 20px rgba(0,0,0,0.3);\n\">\n  <h1 style=\"font-size:60px; margin-bottom:30px; line-height:1.2;\">\n    Live Linear Algebra: understand, code and apply!\n  </h1>\n  <h2 style=\"font-size:28px; margin-bottom:20px; font-weight:normal;\">\n    Amit Bhaya, Gabriel S. P. Oliveira, Marcelo L. R. Campos, Martina M. Jardim\n  </h2>\n  <h3 style=\"font-size:22px; margin-bottom:50px; font-weight:normal; color:#ecf0f1;\">\n    Laboratório de Sinais, Multimídia e Telecomunicações\n  </h3>\n    <img src=\"smt_logo.png\" width=\"150\">\n  <p style=\"font-size:18px; color:#ecf0f1;\">\n    Universidade Federal do Rio de Janeiro — 2025\n  </p>\n</div>\n\n<div style=\"page-break-after: always;\"></div>\n",
      "metadata": {}
    },
    {
      "id": "0bda3e4f-182e-4a64-be7d-32144e7b5d60",
      "cell_type": "markdown",
      "source": "<br>\n<p style=\"text-align:left;\">\n    <a href=\"0- START HERE.ipynb\">⬅️PREVIOUS</a>\n    <span style=\"float:right;\">\n        <a href=\"1.1 - FIELDS.ipynb\" >NEXT➡️</a>\n    </span>\n</p>",
      "metadata": {}
    }
  ]
}